{
 "cells": [
  {
   "cell_type": "markdown",
   "metadata": {},
   "source": [
    "# INFO 2950 Project Phase II\n",
    "\n",
    "Ray Zhou, Ray Zhang, Alex Weiss, Steven Chen"
   ]
  },
  {
   "cell_type": "markdown",
   "metadata": {},
   "source": [
    "To do:\n",
    "- complete 'Summary Statistcs/Exploratory Data Analysis' section with plots and connect back to Research Question (provide analysis but don't say 'cause', just describe if there is a correlation\n",
    "- summarize quickly some limiations/problems of the dataset. Please don't say that this dataset is fundamentally flawed lol, try to find issues that say we did a lot of work to clean the data\n",
    "- ask some basic questions to the reviewers\n",
    "- SUBMIT !!! one of you guys can submit when you are done and we can all download from the CMSX\n",
    "\n",
    "\n",
    "Tips:\n",
    "- use the Zoom \"Remote Control\" function while working on one computer, it really helps because edits are not shared real time\n",
    "- group data by boroughs\n",
    "    - Graph section 1: we have 5 boroughs and casualties/vehicles involved in accident. We can generate a scatterplot/line plot and analyzing correlation for a total of 10 graphs\n",
    "    - Graph section 2: create a histogram comparing each borough in terms of counts of accidents to provide a holistic perspective\n",
    "    \n",
    "Feel free too add more or adjust as you like, these are just suggestions to meet the Phase II criteria.\n"
   ]
  },
  {
   "cell_type": "code",
   "execution_count": 1,
   "metadata": {},
   "outputs": [
    {
     "name": "stderr",
     "output_type": "stream",
     "text": [
      "C:\\ProgramData\\Anaconda3\\lib\\site-packages\\IPython\\core\\interactiveshell.py:3146: DtypeWarning: Columns (3) have mixed types.Specify dtype option on import or set low_memory=False.\n",
      "  has_raised = await self.run_ast_nodes(code_ast.body, cell_name,\n"
     ]
    }
   ],
   "source": [
    "import pandas as pd\n",
    "import numpy as np\n",
    "import matplotlib.pyplot as plt\n",
    "accidents = pd.read_csv('Motor_Vehicle_Collisions_-_Crashes.csv')"
   ]
  },
  {
   "cell_type": "markdown",
   "metadata": {},
   "source": [
    "---\n",
    "\n",
    "## Research Question\n",
    "\n",
    "What impact does the **time of day** have on **accident severity** in terms of **numbers of casualties** and **vehicles involved in an accident** in the **various boroughs of New York**?"
   ]
  },
  {
   "cell_type": "markdown",
   "metadata": {},
   "source": [
    "---\n",
    "\n",
    "## Data Description\n",
    "\n",
    "Motor vehicle collision data was downloaded from the NYC OpenData project interface. The website can be found [here](https://data.cityofnewyork.us/Public-Safety/Motor-Vehicle-Collisions-Crashes/h9gi-nx95). Data points originate from filed MV104-AN police reports.\n",
    "\n",
    "Since the dataset was of 1.76 million datapoints since 2012 with 29 factors, we can omit certain factors are less related to the research question. For now some important factors include time, borough, persons killed, and persons injured. The types of vehicles involved in an accident are also summarized in five columns, we will have to perform operations to generate another column to sum up the number of vehicles involved in each crash."
   ]
  },
  {
   "cell_type": "markdown",
   "metadata": {},
   "source": [
    "---\n",
    "\n",
    "## Data Collection, and Cleaning\n",
    "\n",
    "First we can rename some of the columns we will operate on."
   ]
  },
  {
   "cell_type": "code",
   "execution_count": 2,
   "metadata": {},
   "outputs": [],
   "source": [
    "accidents = accidents.rename(columns = {'CRASH DATE':'date','CRASH TIME':'time', 'BOROUGH':'borough', 'NUMBER OF PERSONS KILLED': 'killed', 'NUMBER OF PERSONS INJURED': 'injured'})"
   ]
  },
  {
   "cell_type": "markdown",
   "metadata": {},
   "source": [
    "First we can evaluate the number of vehicles involved in an accident. In the original dataset, there are five columns. As crashes are arranged by row, the columns filled represents the types of vehicles involved, with NaN meaning a vehicle was not involved in a crash. By counting the number of NaNs in each row of the vehicle involved dataframe we can determine the total number of vehicles in a crash. We can append this to the original dataset in a new column called 'vehicles_involved'."
   ]
  },
  {
   "cell_type": "code",
   "execution_count": 3,
   "metadata": {},
   "outputs": [],
   "source": [
    "vehicle_types = ['VEHICLE TYPE CODE 1', 'VEHICLE TYPE CODE 2', 'VEHICLE TYPE CODE 3', 'VEHICLE TYPE CODE 4', 'VEHICLE TYPE CODE 5']\n",
    "accident_vehicles = accidents[vehicle_types]\n",
    "\n",
    "accidents['vehicles_involved'] = 5-accident_vehicles.isnull().sum(axis=1)"
   ]
  },
  {
   "cell_type": "markdown",
   "metadata": {},
   "source": [
    "\n",
    "\n",
    "We also create a list of factors which have to deal with the research question. We want to see if the time of day impacts the severity of a crash in terms of\n",
    "1. Number of casualties \n",
    "2. Number of vehicles involved\n",
    "\n",
    "and we are analyzing this in each borough.\n",
    "\n",
    "Using this list of factors we subset the accidents data."
   ]
  },
  {
   "cell_type": "code",
   "execution_count": 4,
   "metadata": {},
   "outputs": [],
   "source": [
    "factors = ['date', 'time', 'borough', 'killed', 'injured', 'vehicles_involved']\n",
    "accidents = accidents[factors]"
   ]
  },
  {
   "cell_type": "markdown",
   "metadata": {},
   "source": [
    "Next we can focus only on accidents in the incorporated boroughs. According to the data origin from New York State MV-104AN forms, accidents not given a borough (represented by NaN) occured in an nearby county (which we will omit)."
   ]
  },
  {
   "cell_type": "code",
   "execution_count": 5,
   "metadata": {},
   "outputs": [
    {
     "data": {
      "text/html": [
       "<div>\n",
       "<style scoped>\n",
       "    .dataframe tbody tr th:only-of-type {\n",
       "        vertical-align: middle;\n",
       "    }\n",
       "\n",
       "    .dataframe tbody tr th {\n",
       "        vertical-align: top;\n",
       "    }\n",
       "\n",
       "    .dataframe thead th {\n",
       "        text-align: right;\n",
       "    }\n",
       "</style>\n",
       "<table border=\"1\" class=\"dataframe\">\n",
       "  <thead>\n",
       "    <tr style=\"text-align: right;\">\n",
       "      <th></th>\n",
       "      <th>date</th>\n",
       "      <th>time</th>\n",
       "      <th>borough</th>\n",
       "      <th>killed</th>\n",
       "      <th>injured</th>\n",
       "      <th>vehicles_involved</th>\n",
       "    </tr>\n",
       "  </thead>\n",
       "  <tbody>\n",
       "    <tr>\n",
       "      <th>0</th>\n",
       "      <td>10/30/2020</td>\n",
       "      <td>10:00</td>\n",
       "      <td>BROOKLYN</td>\n",
       "      <td>0.0</td>\n",
       "      <td>0.0</td>\n",
       "      <td>1</td>\n",
       "    </tr>\n",
       "    <tr>\n",
       "      <th>3</th>\n",
       "      <td>10/09/2020</td>\n",
       "      <td>17:10</td>\n",
       "      <td>BRONX</td>\n",
       "      <td>0.0</td>\n",
       "      <td>0.0</td>\n",
       "      <td>2</td>\n",
       "    </tr>\n",
       "    <tr>\n",
       "      <th>4</th>\n",
       "      <td>05/03/2018</td>\n",
       "      <td>16:53</td>\n",
       "      <td>BROOKLYN</td>\n",
       "      <td>0.0</td>\n",
       "      <td>1.0</td>\n",
       "      <td>1</td>\n",
       "    </tr>\n",
       "    <tr>\n",
       "      <th>6</th>\n",
       "      <td>10/21/2020</td>\n",
       "      <td>13:25</td>\n",
       "      <td>MANHATTAN</td>\n",
       "      <td>0.0</td>\n",
       "      <td>0.0</td>\n",
       "      <td>2</td>\n",
       "    </tr>\n",
       "    <tr>\n",
       "      <th>8</th>\n",
       "      <td>05/01/2018</td>\n",
       "      <td>20:50</td>\n",
       "      <td>BROOKLYN</td>\n",
       "      <td>0.0</td>\n",
       "      <td>1.0</td>\n",
       "      <td>2</td>\n",
       "    </tr>\n",
       "  </tbody>\n",
       "</table>\n",
       "</div>"
      ],
      "text/plain": [
       "         date   time    borough  killed  injured  vehicles_involved\n",
       "0  10/30/2020  10:00   BROOKLYN     0.0      0.0                  1\n",
       "3  10/09/2020  17:10      BRONX     0.0      0.0                  2\n",
       "4  05/03/2018  16:53   BROOKLYN     0.0      1.0                  1\n",
       "6  10/21/2020  13:25  MANHATTAN     0.0      0.0                  2\n",
       "8  05/01/2018  20:50   BROOKLYN     0.0      1.0                  2"
      ]
     },
     "execution_count": 5,
     "metadata": {},
     "output_type": "execute_result"
    }
   ],
   "source": [
    "accidents = accidents.dropna(subset = [\"borough\"])\n",
    "accidents.head()"
   ]
  },
  {
   "cell_type": "markdown",
   "metadata": {},
   "source": [
    "Now we generate a new column of time objects. Since we have two columns with the date and the time of day, we can concatenate into one column, and using Pandas to_datetime(), parse into time objects."
   ]
  },
  {
   "cell_type": "code",
   "execution_count": 6,
   "metadata": {},
   "outputs": [
    {
     "data": {
      "text/html": [
       "<div>\n",
       "<style scoped>\n",
       "    .dataframe tbody tr th:only-of-type {\n",
       "        vertical-align: middle;\n",
       "    }\n",
       "\n",
       "    .dataframe tbody tr th {\n",
       "        vertical-align: top;\n",
       "    }\n",
       "\n",
       "    .dataframe thead th {\n",
       "        text-align: right;\n",
       "    }\n",
       "</style>\n",
       "<table border=\"1\" class=\"dataframe\">\n",
       "  <thead>\n",
       "    <tr style=\"text-align: right;\">\n",
       "      <th></th>\n",
       "      <th>date</th>\n",
       "      <th>time</th>\n",
       "      <th>borough</th>\n",
       "      <th>killed</th>\n",
       "      <th>injured</th>\n",
       "      <th>vehicles_involved</th>\n",
       "      <th>parsed_time</th>\n",
       "    </tr>\n",
       "  </thead>\n",
       "  <tbody>\n",
       "    <tr>\n",
       "      <th>0</th>\n",
       "      <td>10/30/2020</td>\n",
       "      <td>10:00</td>\n",
       "      <td>BROOKLYN</td>\n",
       "      <td>0.0</td>\n",
       "      <td>0.0</td>\n",
       "      <td>1</td>\n",
       "      <td>2020-10-30 10:00:00</td>\n",
       "    </tr>\n",
       "    <tr>\n",
       "      <th>3</th>\n",
       "      <td>10/09/2020</td>\n",
       "      <td>17:10</td>\n",
       "      <td>BRONX</td>\n",
       "      <td>0.0</td>\n",
       "      <td>0.0</td>\n",
       "      <td>2</td>\n",
       "      <td>2020-10-09 17:10:00</td>\n",
       "    </tr>\n",
       "    <tr>\n",
       "      <th>4</th>\n",
       "      <td>05/03/2018</td>\n",
       "      <td>16:53</td>\n",
       "      <td>BROOKLYN</td>\n",
       "      <td>0.0</td>\n",
       "      <td>1.0</td>\n",
       "      <td>1</td>\n",
       "      <td>2018-05-03 16:53:00</td>\n",
       "    </tr>\n",
       "    <tr>\n",
       "      <th>6</th>\n",
       "      <td>10/21/2020</td>\n",
       "      <td>13:25</td>\n",
       "      <td>MANHATTAN</td>\n",
       "      <td>0.0</td>\n",
       "      <td>0.0</td>\n",
       "      <td>2</td>\n",
       "      <td>2020-10-21 13:25:00</td>\n",
       "    </tr>\n",
       "    <tr>\n",
       "      <th>8</th>\n",
       "      <td>05/01/2018</td>\n",
       "      <td>20:50</td>\n",
       "      <td>BROOKLYN</td>\n",
       "      <td>0.0</td>\n",
       "      <td>1.0</td>\n",
       "      <td>2</td>\n",
       "      <td>2018-05-01 20:50:00</td>\n",
       "    </tr>\n",
       "  </tbody>\n",
       "</table>\n",
       "</div>"
      ],
      "text/plain": [
       "         date   time    borough  killed  injured  vehicles_involved  \\\n",
       "0  10/30/2020  10:00   BROOKLYN     0.0      0.0                  1   \n",
       "3  10/09/2020  17:10      BRONX     0.0      0.0                  2   \n",
       "4  05/03/2018  16:53   BROOKLYN     0.0      1.0                  1   \n",
       "6  10/21/2020  13:25  MANHATTAN     0.0      0.0                  2   \n",
       "8  05/01/2018  20:50   BROOKLYN     0.0      1.0                  2   \n",
       "\n",
       "          parsed_time  \n",
       "0 2020-10-30 10:00:00  \n",
       "3 2020-10-09 17:10:00  \n",
       "4 2018-05-03 16:53:00  \n",
       "6 2020-10-21 13:25:00  \n",
       "8 2018-05-01 20:50:00  "
      ]
     },
     "execution_count": 6,
     "metadata": {},
     "output_type": "execute_result"
    }
   ],
   "source": [
    "accidents['parsed_time'] = pd.to_datetime(accidents.date + accidents.time, format = '%m/%d/%Y%H:%M')\n",
    "accidents.head()"
   ]
  },
  {
   "cell_type": "markdown",
   "metadata": {},
   "source": [
    "According to the handbook \"You should be saving data in intermediate files at several points through this process so that you are not starting from scratch every time you change something\". To do so we will use Pandas to_csv() method."
   ]
  },
  {
   "cell_type": "code",
   "execution_count": 7,
   "metadata": {},
   "outputs": [],
   "source": [
    "accidents.to_csv('cleaned_accidents.csv')"
   ]
  },
  {
   "cell_type": "markdown",
   "metadata": {},
   "source": [
    "---\n",
    "\n",
    "## Data Limitations\n"
   ]
  },
  {
   "cell_type": "markdown",
   "metadata": {},
   "source": [
    "---\n",
    "\n",
    "## Summary Statistics/Exploratory Data Analysis"
   ]
  },
  {
   "cell_type": "code",
   "execution_count": 22,
   "metadata": {},
   "outputs": [
    {
     "name": "stdout",
     "output_type": "stream",
     "text": [
      "Mean vehicles involved: 1.8940\n",
      "Standard deviation of vehicles involved 0.5386\n",
      "\n",
      "borough\n",
      "BRONX            1.856926\n",
      "BROOKLYN         1.897960\n",
      "MANHATTAN        1.893819\n",
      "QUEENS           1.910230\n",
      "STATEN ISLAND    1.887740\n",
      "Name: vehicles_involved, dtype: float64\n"
     ]
    }
   ],
   "source": [
    "print('{} {:.4f}'.format('Mean vehicles involved:', np.mean(accidents.vehicles_involved)))\n",
    "print('{} {:.4f}'.format('Standard deviation of vehicles involved', np.std(accidents.vehicles_involved)))\n",
    "\n",
    "print()\n",
    "print(accidents.groupby([\"borough\"])[\"vehicles_involved\"].mean())\n",
    "\n"
   ]
  },
  {
   "cell_type": "markdown",
   "metadata": {},
   "source": [
    "---\n",
    "\n",
    "## Questions for Reviewers\n",
    "\n",
    "1. What conclusion can we come to if one borough has significantly more accident casualties/vehicles involved than another? Essentially, if you have five categorical variables, what kind of correlation conclusion can you come to? Are there any tests that can be done to compare such categorical variables?"
   ]
  }
 ],
 "metadata": {
  "kernelspec": {
   "display_name": "Python 3",
   "language": "python",
   "name": "python3"
  },
  "language_info": {
   "codemirror_mode": {
    "name": "ipython",
    "version": 3
   },
   "file_extension": ".py",
   "mimetype": "text/x-python",
   "name": "python",
   "nbconvert_exporter": "python",
   "pygments_lexer": "ipython3",
   "version": "3.8.5"
  }
 },
 "nbformat": 4,
 "nbformat_minor": 4
}
