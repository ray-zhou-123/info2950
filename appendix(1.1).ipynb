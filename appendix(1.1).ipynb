{
 "cells": [
  {
   "cell_type": "markdown",
   "metadata": {},
   "source": [
    "# Appendix 1.1\n",
    "---"
   ]
  },
  {
   "cell_type": "markdown",
   "metadata": {},
   "source": [
    "## Data Collection, and Cleaning\n",
    "\n",
    "First we can rename some of the columns we will operate on."
   ]
  },
  {
   "cell_type": "code",
   "execution_count": 2,
   "metadata": {},
   "outputs": [],
   "source": [
    "# accidents = accidents.rename(columns = {'CRASH DATE':'date','CRASH TIME':'time', 'BOROUGH':'borough',\n",
    "#                                        'NUMBER OF PERSONS KILLED': 'killed', 'NUMBER OF PERSONS INJURED': 'injured',\n",
    "#                                        'LATITUDE': 'latitude', 'LONGITUDE': 'longitude'})\n"
   ]
  },
  {
   "cell_type": "markdown",
   "metadata": {},
   "source": [
    "First we can evaluate the number of vehicles involved in an accident. In the original dataset, there are five columns. As crashes are arranged by row, the columns filled represents the types of vehicles involved, with NaN meaning a vehicle was not involved in a crash. By counting the number of NaNs in each row of the vehicle involved dataframe we can determine the total number of vehicles in a crash. We can append this to the original dataset in a new column called 'vehicles_involved'."
   ]
  },
  {
   "cell_type": "code",
   "execution_count": 3,
   "metadata": {},
   "outputs": [],
   "source": [
    "#vehicle_types = ['VEHICLE TYPE CODE 1', 'VEHICLE TYPE CODE 2', 'VEHICLE TYPE CODE 3', 'VEHICLE TYPE CODE 4', 'VEHICLE TYPE CODE 5']\n",
    "#accident_vehicles = accidents[vehicle_types]\n",
    "\n",
    "#accidents['vehicles_involved'] = 5-accident_vehicles.isnull().sum(axis = 1)"
   ]
  },
  {
   "cell_type": "markdown",
   "metadata": {},
   "source": [
    "\n",
    "\n",
    "We also create a list of factors which have to deal with the research question. We want to see if the time of day impacts the severity of a crash in terms of\n",
    "1. Number of casualties \n",
    "2. Number of vehicles involved\n",
    "\n",
    "and we are analyzing this in each borough.\n",
    "\n",
    "Using this list of factors we subset the accidents data."
   ]
  },
  {
   "cell_type": "code",
   "execution_count": 4,
   "metadata": {},
   "outputs": [],
   "source": [
    "#factors = ['date', 'time', 'borough', 'killed', 'injured', 'vehicles_involved', 'latitude', 'longitude']\n",
    "#accidents = accidents[factors]"
   ]
  },
  {
   "cell_type": "markdown",
   "metadata": {},
   "source": [
    "Next we can focus only on accidents in the incorporated boroughs. According to the data origin being from New York State MV-104A forms and New York City MV-104AN forms being interchangeable, accidents not given a borough (represented by NaN) occured in an nearby county outside of the city (which we will omit)."
   ]
  },
  {
   "cell_type": "code",
   "execution_count": 5,
   "metadata": {},
   "outputs": [],
   "source": [
    "#accidents = accidents.dropna(subset = [\"borough\"])\n",
    "# the current index represents the previous indices of crashes including those outside the five boroughs\n",
    "#accidents.head()"
   ]
  },
  {
   "cell_type": "markdown",
   "metadata": {},
   "source": [
    "Now we generate a new column of time objects. Since we have two columns with the date and the time of day, we can concatenate into one column, and using Pandas to_datetime(), parse into time objects."
   ]
  },
  {
   "cell_type": "code",
   "execution_count": 6,
   "metadata": {},
   "outputs": [],
   "source": [
    "#accidents['parsed_time'] = pd.to_datetime(accidents.date + accidents.time, format = '%m/%d/%Y%H:%M')\n",
    "#accidents.head()"
   ]
  },
  {
   "cell_type": "markdown",
   "metadata": {},
   "source": [
    "After subsequent analysis we determined the whole period of time was too long. Our data might have been skewed by events such as the pandemic occuring. Thus, we decided to subset the data to only the year 2018.\n"
   ]
  },
  {
   "cell_type": "code",
   "execution_count": 7,
   "metadata": {},
   "outputs": [],
   "source": [
    "#right_year = []\n",
    "\n",
    "#for i in accidents['parsed_time']:\n",
    "#    if i.year == 2018:\n",
    "#        right_year.append(True)\n",
    "#    else:\n",
    "#        right_year.append(False)\n",
    "#\n",
    "#accidents = accidents[right_year]"
   ]
  },
  {
   "cell_type": "code",
   "execution_count": 8,
   "metadata": {},
   "outputs": [
    {
     "data": {
      "text/html": [
       "<div>\n",
       "<style scoped>\n",
       "    .dataframe tbody tr th:only-of-type {\n",
       "        vertical-align: middle;\n",
       "    }\n",
       "\n",
       "    .dataframe tbody tr th {\n",
       "        vertical-align: top;\n",
       "    }\n",
       "\n",
       "    .dataframe thead th {\n",
       "        text-align: right;\n",
       "    }\n",
       "</style>\n",
       "<table border=\"1\" class=\"dataframe\">\n",
       "  <thead>\n",
       "    <tr style=\"text-align: right;\">\n",
       "      <th></th>\n",
       "      <th>Unnamed: 0</th>\n",
       "      <th>date</th>\n",
       "      <th>time</th>\n",
       "      <th>borough</th>\n",
       "      <th>killed</th>\n",
       "      <th>injured</th>\n",
       "      <th>vehicles_involved</th>\n",
       "      <th>latitude</th>\n",
       "      <th>longitude</th>\n",
       "      <th>parsed_time</th>\n",
       "    </tr>\n",
       "  </thead>\n",
       "  <tbody>\n",
       "    <tr>\n",
       "      <th>0</th>\n",
       "      <td>4</td>\n",
       "      <td>05/03/2018</td>\n",
       "      <td>16:53</td>\n",
       "      <td>BROOKLYN</td>\n",
       "      <td>0.0</td>\n",
       "      <td>1.0</td>\n",
       "      <td>1</td>\n",
       "      <td>40.595753</td>\n",
       "      <td>-73.964676</td>\n",
       "      <td>2018-05-03 16:53:00</td>\n",
       "    </tr>\n",
       "    <tr>\n",
       "      <th>1</th>\n",
       "      <td>8</td>\n",
       "      <td>05/01/2018</td>\n",
       "      <td>20:50</td>\n",
       "      <td>BROOKLYN</td>\n",
       "      <td>0.0</td>\n",
       "      <td>1.0</td>\n",
       "      <td>2</td>\n",
       "      <td>40.632260</td>\n",
       "      <td>-73.900880</td>\n",
       "      <td>2018-05-01 20:50:00</td>\n",
       "    </tr>\n",
       "    <tr>\n",
       "      <th>2</th>\n",
       "      <td>15</td>\n",
       "      <td>05/01/2018</td>\n",
       "      <td>17:53</td>\n",
       "      <td>BRONX</td>\n",
       "      <td>0.0</td>\n",
       "      <td>1.0</td>\n",
       "      <td>1</td>\n",
       "      <td>40.827343</td>\n",
       "      <td>-73.897620</td>\n",
       "      <td>2018-05-01 17:53:00</td>\n",
       "    </tr>\n",
       "    <tr>\n",
       "      <th>3</th>\n",
       "      <td>19</td>\n",
       "      <td>05/01/2018</td>\n",
       "      <td>15:00</td>\n",
       "      <td>BROOKLYN</td>\n",
       "      <td>0.0</td>\n",
       "      <td>0.0</td>\n",
       "      <td>2</td>\n",
       "      <td>40.607765</td>\n",
       "      <td>-73.982550</td>\n",
       "      <td>2018-05-01 15:00:00</td>\n",
       "    </tr>\n",
       "    <tr>\n",
       "      <th>4</th>\n",
       "      <td>32</td>\n",
       "      <td>05/03/2018</td>\n",
       "      <td>18:10</td>\n",
       "      <td>MANHATTAN</td>\n",
       "      <td>0.0</td>\n",
       "      <td>0.0</td>\n",
       "      <td>2</td>\n",
       "      <td>40.733524</td>\n",
       "      <td>-73.989876</td>\n",
       "      <td>2018-05-03 18:10:00</td>\n",
       "    </tr>\n",
       "  </tbody>\n",
       "</table>\n",
       "</div>"
      ],
      "text/plain": [
       "   Unnamed: 0        date   time    borough  killed  injured  \\\n",
       "0           4  05/03/2018  16:53   BROOKLYN     0.0      1.0   \n",
       "1           8  05/01/2018  20:50   BROOKLYN     0.0      1.0   \n",
       "2          15  05/01/2018  17:53      BRONX     0.0      1.0   \n",
       "3          19  05/01/2018  15:00   BROOKLYN     0.0      0.0   \n",
       "4          32  05/03/2018  18:10  MANHATTAN     0.0      0.0   \n",
       "\n",
       "   vehicles_involved   latitude  longitude          parsed_time  \n",
       "0                  1  40.595753 -73.964676  2018-05-03 16:53:00  \n",
       "1                  2  40.632260 -73.900880  2018-05-01 20:50:00  \n",
       "2                  1  40.827343 -73.897620  2018-05-01 17:53:00  \n",
       "3                  2  40.607765 -73.982550  2018-05-01 15:00:00  \n",
       "4                  2  40.733524 -73.989876  2018-05-03 18:10:00  "
      ]
     },
     "execution_count": 8,
     "metadata": {},
     "output_type": "execute_result"
    }
   ],
   "source": [
    "accidents.head()"
   ]
  },
  {
   "cell_type": "markdown",
   "metadata": {},
   "source": [
    "According to the handbook \"You should be saving data in intermediate files at several points through this process so that you are not starting from scratch every time you change something\". To do so we will use Pandas to_csv() method."
   ]
  },
  {
   "cell_type": "code",
   "execution_count": 9,
   "metadata": {},
   "outputs": [],
   "source": [
    "#accidents.to_csv('cleaned_accidents.csv')"
   ]
  },
  {
   "cell_type": "markdown",
   "metadata": {},
   "source": [
    "After cleaning we discovered that the parsed_time column of objects became string, so we have to re-parse the times."
   ]
  },
  {
   "cell_type": "code",
   "execution_count": 10,
   "metadata": {},
   "outputs": [],
   "source": [
    "accidents['parsed_time'] = pd.to_datetime(accidents.parsed_time, format = '%Y-%m-%d %H:%M')"
   ]
  }
 ],
 "metadata": {
  "kernelspec": {
   "display_name": "Python 3",
   "language": "python",
   "name": "python3"
  },
  "language_info": {
   "codemirror_mode": {
    "name": "ipython",
    "version": 3
   },
   "file_extension": ".py",
   "mimetype": "text/x-python",
   "name": "python",
   "nbconvert_exporter": "python",
   "pygments_lexer": "ipython3",
   "version": "3.8.5"
  }
 },
 "nbformat": 4,
 "nbformat_minor": 5
}
